{
 "cells": [
  {
   "cell_type": "code",
   "execution_count": 3,
   "metadata": {},
   "outputs": [],
   "source": [
    "import time\n",
    "import matplotlib.pyplot as plt\n",
    "import numpy as np"
   ]
  },
  {
   "cell_type": "code",
   "execution_count": 2,
   "metadata": {},
   "outputs": [],
   "source": [
    "class PID:\n",
    "    def __init__(self):\n",
    "        self.Kp = 0\n",
    "        self.Kd = 0\n",
    "        self.Ki = 0\n",
    "        self.Initialize()\n",
    "\n",
    "    def SetKp(self,invar):\n",
    "        self.Kp = invar\n",
    "\n",
    "    def SetKi(self,invar):\n",
    "        self.Ki = invar\n",
    "\n",
    "    def SetKd(self,invar):\n",
    "        self.Kd = invar\n",
    "\n",
    "    def SetPrevError(self,preverror):\n",
    "        self.prev_error = preverror\n",
    "\n",
    "    def Initialize(self):\n",
    "        self.currtime = time.time()\n",
    "        self.prevtime = self.currtime\n",
    "\n",
    "        self.prev_error = 0\n",
    "\n",
    "        self.Cp = 0\n",
    "        self.Ci = 0\n",
    "        self.Cd = 0\n",
    "\n",
    "    def GenOut(self,error):\n",
    "        self.currtime = time.time()\n",
    "        dt = self.currtime - self.prevtime\n",
    "        de = error - self.prev_error\n",
    "\n",
    "        self.Cp = self.Kp*error\n",
    "        self.Ci += error*dt\n",
    "\n",
    "        self.Cd = 0\n",
    "        if dt > 0:\n",
    "            self.Cd = de/dt\n",
    "\n",
    "        self.prevtime = self.currtime\n",
    "        self.prev_error = error\n",
    "\n",
    "        return self.Cp + (self.Ki*self.Ci) + (self.Kd*self.Cd)"
   ]
  },
  {
   "cell_type": "code",
   "execution_count": 108,
   "metadata": {},
   "outputs": [],
   "source": [
    "kp = 0.5\n",
    "kd = 0\n",
    "ki = 0"
   ]
  },
  {
   "cell_type": "code",
   "execution_count": 109,
   "metadata": {},
   "outputs": [],
   "source": [
    "# \n",
    "pid = PID()\n",
    "pid.SetKp(kp)\n",
    "pid.SetKd(kd)\n",
    "pid.SetKi(ki)"
   ]
  },
  {
   "cell_type": "code",
   "execution_count": 112,
   "metadata": {},
   "outputs": [
    {
     "data": {
      "text/plain": [
       "<matplotlib.collections.LineCollection at 0x1e9d87b5448>"
      ]
     },
     "execution_count": 112,
     "metadata": {},
     "output_type": "execute_result"
    },
    {
     "data": {
      "image/png": "[encoded data removed]",
      "text/plain": [
       "<Figure size 432x288 with 1 Axes>"
      ]
     },
     "metadata": {
      "needs_background": "light"
     },
     "output_type": "display_data"
    }
   ],
   "source": [
    "# \n",
    "err = np.linspace(0,640,100)\n",
    "err_ad = (err - 320)/5\n",
    "err_ad\n",
    "\n",
    "out = pid.GenOut(err_ad)\n",
    "plt.plot(err,out)\n",
    "plt.vlines(320,ymin=-25,ymax = 25)"
   ]
  },
  {
   "cell_type": "code",
   "execution_count": null,
   "metadata": {},
   "outputs": [],
   "source": []
  },
  {
   "cell_type": "code",
   "execution_count": null,
   "metadata": {},
   "outputs": [],
   "source": []
  }
 ],
 "metadata": {
  "kernelspec": {
   "display_name": "robot37",
   "language": "python",
   "name": "robot37"
  },
  "language_info": {
   "codemirror_mode": {
    "name": "ipython",
    "version": 3
   },
   "file_extension": ".py",
   "mimetype": "text/x-python",
   "name": "python",
   "nbconvert_exporter": "python",
   "pygments_lexer": "ipython3",
   "version": "3.7.5"
  }
 },
 "nbformat": 4,
 "nbformat_minor": 2
}
